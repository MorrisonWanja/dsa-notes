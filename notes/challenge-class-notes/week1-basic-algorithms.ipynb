{
 "cells": [
  {
   "cell_type": "markdown",
   "metadata": {},
   "source": [
    "# Week 1 Notes – Basic Algorithms\n",
    "## 2024 Data Structures & Algorithms Challenge\n",
    "### Notes by Cyril Michino | Zindua School"
   ]
  },
  {
   "cell_type": "markdown",
   "metadata": {},
   "source": [
    "## Before We Begin...\n",
    "### Why learn data structures and algorithms (Computer Programming Fundamentals)\n",
    "- Build optimised code: increase speed and reduce cost (Particularly at scale)\n",
    "- Advance your problem-solving skills with code (Paradigms for solving code problems)\n",
    "- Crack technical interviews (Typical questions for Big Tech companies)"
   ]
  },
  {
   "cell_type": "markdown",
   "metadata": {},
   "source": [
    "### What this course will cover:\n",
    "1. Week 1: Basic Algorithms\n",
    "    - Big-O Notation\n",
    "    - Arrays & Hashmaps\n",
    "    - Search\n",
    "    - Sorting\n",
    "2. Week 2: Data Structures\n",
    "    - Linear Data Structures: Linked Lists, Stacks, Queues\n",
    "    - Non-Linear Data Structures: Trees, Graphs\n",
    "3. Week 3: Divide & Conquer Algorithms (Real problem-solving starts)\n",
    "    - Recursion\n",
    "    - Dynamic Programming\n",
    "    - Greedy Algorithms\n",
    "4. Week 4: Advanced Algorithms\n",
    "    - Dynamic Programming in Graphs & Grid\n",
    "    - Advanced Graph Algorithms: Search, Pathfinding, Vertex Coloring\n",
    "    - Optimise Greedy Algorithms: Hill Climbing (Gradient Descent)\n",
    "    - NP-Completeness\n",
    "5. Week 5: Bonus Sessions\n",
    "    - 2 Career by Gebeya\n",
    "    - 2 bonus sessions (unstuck)\n",
    "    - Bonus: Numpy, Monte Carlo, Markov Chains"
   ]
  },
  {
   "cell_type": "markdown",
   "metadata": {},
   "source": [
    "## Day 1: Introduction to Algorithms \n",
    "Objectives: Unbderstand Big-O Notation, learn array search algorithms (Linear vs Binary Search)"
   ]
  },
  {
   "cell_type": "markdown",
   "metadata": {},
   "source": [
    "### Big-O Notation\n",
    "Recommended Readings:\n",
    "1. [FreeCodeCamp, What is Big O Notation Explained: Space and Time Complexity](https://www.freecodecamp.org/news/big-o-notation-why-it-matters-and-why-it-doesnt-1674cfa8a23c/)\n",
    "2. [Big-O cheatsheet, Know thy complexities](https://www.bigocheatsheet.com/)"
   ]
  },
  {
   "cell_type": "markdown",
   "metadata": {},
   "source": [
    "**Why the notation:** Different computer run at different speeds but this notation allows us to understand the relative speed of an algorithm. Note that we use the Big-O notation for both runtime and space complexity. We'll use runtime complexity (the number of operations your code makes) to understand this notation better.\n",
    "\n",
    "These are the notations to take note of though when assessing the complexity of code:\n",
    "- Big O (O()) describes the upper bound of the complexity (Worst case)\n",
    "- Omega (Ω()) describes the lower bound of the complexity (Best case)\n",
    "- Theta (Θ()) describes the exact bound of the complexity (Exact worst case bound)\n",
    "\n",
    "When gauging the complexity of our code, we always focus on the worst case scenario. Hence, we use Big-O notation to determine the complexity of our code. However, since upper bounds can move to infinity (e.g. n^2,n^3 are all upper bounds of n), most of the time when we talk of Big-O, we are actually talking about Theta (Θ()) i.e. the exact bound of complexity."
   ]
  },
  {
   "cell_type": "markdown",
   "metadata": {},
   "source": [
    "#### Runtime Complexity Examples\n",
    "##### Here is code that runs in constant time O(1)"
   ]
  },
  {
   "cell_type": "code",
   "execution_count": 7,
   "metadata": {},
   "outputs": [
    {
     "name": "stdout",
     "output_type": "stream",
     "text": [
      "a\n"
     ]
    }
   ],
   "source": [
    "## Constant time, operations remain the same regardless of the scale of the elements\n",
    "arr = [3,4,6,7,8]\n",
    "print(arr) #Whether the array has 2 elements or million elements, the print operation only runs once"
   ]
  },
  {
   "cell_type": "code",
   "execution_count": 16,
   "metadata": {},
   "outputs": [
    {
     "data": {
      "text/plain": [
       "9"
      ]
     },
     "execution_count": 16,
     "metadata": {},
     "output_type": "execute_result"
    }
   ],
   "source": [
    "4 + 5 #Regardless of the weight of the numbers, this operation also has constant time"
   ]
  },
  {
   "cell_type": "markdown",
   "metadata": {},
   "source": [
    "#### Here is code that runs in linear time O(n)"
   ]
  },
  {
   "cell_type": "code",
   "execution_count": 17,
   "metadata": {},
   "outputs": [
    {
     "name": "stdout",
     "output_type": "stream",
     "text": [
      "3\n",
      "4\n",
      "6\n",
      "7\n",
      "8\n"
     ]
    }
   ],
   "source": [
    "arr = [3,4,6,7,8]\n",
    "for i in arr:\n",
    "    print(i) ## Number of print operations will be equal to the length of the array"
   ]
  },
  {
   "cell_type": "markdown",
   "metadata": {},
   "source": [
    "#### Here is code that runs in quadratic time O(n<sup>2</sup>)"
   ]
  },
  {
   "cell_type": "code",
   "execution_count": 18,
   "metadata": {},
   "outputs": [
    {
     "name": "stdout",
     "output_type": "stream",
     "text": [
      "3\n",
      "4\n",
      "6\n",
      "7\n",
      "8\n",
      "3\n",
      "4\n",
      "6\n",
      "7\n",
      "8\n",
      "3\n",
      "4\n",
      "6\n",
      "7\n",
      "8\n",
      "3\n",
      "4\n",
      "6\n",
      "7\n",
      "8\n",
      "3\n",
      "4\n",
      "6\n",
      "7\n",
      "8\n"
     ]
    }
   ],
   "source": [
    "arr = [[3,4,6,7,8],[3,4,6,7,8],[3,4,6,7,8],[3,4,6,7,8],[3,4,6,7,8]]\n",
    "\n",
    "for i in arr: # This loop runs n times\n",
    "    for j in i: # The sub-loop runs n-times every time it is called\n",
    "        print(j) ## Hence, we have n^2 print operations"
   ]
  },
  {
   "cell_type": "markdown",
   "metadata": {},
   "source": [
    "Here is a diagram of different complexities ranked:\n",
    "\n",
    "O(1) < O(log n) < O(n) < O(n log n) < O(n<sup>2</sup>) < O(n<sup>k</sup>) < O(2<sup>n</sup>) < O(n!) | where n is the number of elements and k is a constant greater than 2\n",
    "\n",
    "Note the default base of the log in computer programming is always 2 given that we'll be dealing mostly with binary operations.\n",
    "\n",
    "![Rank of Complexities](https://www.freecodecamp.org/news/content/images/2021/06/1_KfZYFUT2OKfjekJlCeYvuQ.jpeg)"
   ]
  },
  {
   "cell_type": "markdown",
   "metadata": {},
   "source": [
    "### Linear Search\n",
    "We search for elements sequentially in an array from the first index till we find it.\n",
    "- Worst-case scenario O(n)\n",
    "- Best-case scenario Ω(1)"
   ]
  },
  {
   "cell_type": "code",
   "execution_count": 15,
   "metadata": {},
   "outputs": [
    {
     "name": "stdout",
     "output_type": "stream",
     "text": [
      "4\n"
     ]
    }
   ],
   "source": [
    "def linearsearch(arr,element):\n",
    "    \n",
    "    for i in range(len(arr)):\n",
    "        if arr[i] == element:\n",
    "            return i\n",
    "        \n",
    "    return None ## If element is not in array\n",
    "\n",
    "arr = [2,45,34,67,4,23,56]\n",
    "print(linearsearch(arr,4))"
   ]
  },
  {
   "cell_type": "markdown",
   "metadata": {},
   "source": [
    "### Binary Search\n",
    "Only works for sorted arrays. We look for the mid-point of the array and ask ourselves whether the element is the mid-point, on the right-side (higher value), or the left-side (lower value). If the element is the mid-point, we return it, if it is not we focus on the side (sub-array) where it is found and we repeat the split search process up until we find the element.\n",
    "- Worst-case scenario O(log n) i.e. number of operation half with an increase in elements\n",
    "- Best-case scenario O(1)"
   ]
  },
  {
   "cell_type": "code",
   "execution_count": 21,
   "metadata": {},
   "outputs": [
    {
     "name": "stdout",
     "output_type": "stream",
     "text": [
      "5\n"
     ]
    }
   ],
   "source": [
    "### Day 1 Challenge: Write a script to search for an element in an array using binary searc\n",
    "def binarysearch(arr,element):\n",
    "    left = 0\n",
    "    right = len(arr)\n",
    "\n",
    "    while left<=right:\n",
    "        mid = (left+right)//2 ## Use double-division to truncate out the decimal places\n",
    "        if arr[mid] == element:\n",
    "            return mid\n",
    "        if arr[mid] > element:\n",
    "            right = mid - 1\n",
    "        if arr[mid] < element:\n",
    "            left = mid + 1\n",
    "    return None ## If element is not in the array\n",
    "\n",
    "\n",
    "arr = [2,4,6,7,9,10,13] ## Binary search only works for a sorted array\n",
    "element = 10\n",
    "\n",
    "print(binarysearch(arr,element))"
   ]
  },
  {
   "cell_type": "markdown",
   "metadata": {},
   "source": [
    "## Day 2: Introduction to Data Structures"
   ]
  },
  {
   "cell_type": "markdown",
   "metadata": {},
   "source": [
    "### Big-O Notation – Space Complexity"
   ]
  },
  {
   "cell_type": "markdown",
   "metadata": {},
   "source": [
    "### What are Data Structures?\n",
    "A way to store, organise and manage data/information that we use in our programs. There are primitive (Integer, Float, String, Boolean) and non-primitive data structures. Here is how we can categosise non-primitive data structures:\n",
    "1. Linear Data Structures\n",
    "    - Arrays\n",
    "    - Linked Lists\n",
    "    - Stacks\n",
    "    - Queues\n",
    "2. Non-Linear Data Structures\n",
    "    - Hashmaps\n",
    "    - Trees\n",
    "    - Graphs\n",
    "\n",
    "Here are the operations we care about when choosing data structures:\n",
    "\n",
    "- Accessing data\n",
    "- Searching for data\n",
    "- Inserting data\n",
    "- Deleting data"
   ]
  },
  {
   "cell_type": "code",
   "execution_count": 1,
   "metadata": {},
   "outputs": [],
   "source": [
    "arr = [4, \"we\", 5] ## Not an array (Data type should be similar)\n",
    "arr = [\"Cyril\", \"Gerald\", \"Ivy\", \"Shadrach\"] ## Array of strings\n",
    "arr = [4,5,6,7,8] ## Array of integers\n",
    "arr = [[4,5,6,7,8],[4,5,6,7,8],[4,5,6,7,8],[4,5,6,7,8]] #n-dimensional array"
   ]
  },
  {
   "cell_type": "code",
   "execution_count": 2,
   "metadata": {},
   "outputs": [
    {
     "data": {
      "text/plain": [
       "[4, 5, 9, 7, 8]"
      ]
     },
     "execution_count": 2,
     "metadata": {},
     "output_type": "execute_result"
    }
   ],
   "source": [
    "arr = [4,5,6,7,8]\n",
    "arr[2] = 9 ## Replacing values at an index O(1)\n",
    "arr"
   ]
  },
  {
   "cell_type": "code",
   "execution_count": 14,
   "metadata": {},
   "outputs": [
    {
     "name": "stdout",
     "output_type": "stream",
     "text": [
      "2\n"
     ]
    }
   ],
   "source": [
    "## Finding\n",
    "for i in range(len(arr)):\n",
    "    if arr[i] == 6:\n",
    "        print(i)"
   ]
  },
  {
   "cell_type": "markdown",
   "metadata": {},
   "source": [
    "### Arrays\n",
    "- List of items with similar data types (primitive data type).\n",
    "- Array size cannot be changed (Fixed size). We have caveats in Python where array sizes can increase, or in Java where we have static and dynamic arrays\n",
    "\n",
    "#### Common operations in arrays\n",
    "- Accessing an element (Use of indexes, usually integers, to access data) O(1)\n",
    "- Replacing values in an array O(1)\n",
    "- Searching O(n)\n",
    "- Inserting O(n)\n",
    "- Deleting O(n)\n",
    "\n",
    "#### Limitations of Arrays\n",
    "- Fixed Size\n",
    "- Inefficient when inserting and deleting"
   ]
  },
  {
   "cell_type": "markdown",
   "metadata": {},
   "source": [
    "#### Alternative to Arrays: Dynamic Arrays (ArrayLists)\n",
    "- Arrays that do not have a fixed size: Java and C++\n",
    "- ArrayLists actually take more memory space to save the same amount of data (Data storage is non-contiguous)\n",
    "- ArrayLists are slower given how data is stored (Array contain memory locations of the actual values in the array)\n",
    "- ArrayLists cannot take in multidimensional data (Only take in objects, autoboxing used to make this seamless)\n",
    "- Python Lists are a special hybrid of Arrays and ArrayLists (Call it dynamic arrays)"
   ]
  },
  {
   "cell_type": "code",
   "execution_count": 17,
   "metadata": {},
   "outputs": [
    {
     "data": {
      "text/plain": [
       "'Maureen'"
      ]
     },
     "execution_count": 17,
     "metadata": {},
     "output_type": "execute_result"
    }
   ],
   "source": [
    "## Hashmaps\n",
    "students = {1:\"John\",56:\"Maureen\",345:\"Cyril\"}\n",
    "students[56] ## Accessing items through the key O(1)"
   ]
  },
  {
   "cell_type": "code",
   "execution_count": 18,
   "metadata": {},
   "outputs": [
    {
     "data": {
      "text/plain": [
       "{1: 'John', 56: 'Maureen', 345: 'Cyril', 78: 'Edwin'}"
      ]
     },
     "execution_count": 18,
     "metadata": {},
     "output_type": "execute_result"
    }
   ],
   "source": [
    "students[78] = \"Edwin\" ## Adding items to the hashmap O(1)\n",
    "students"
   ]
  },
  {
   "cell_type": "code",
   "execution_count": 19,
   "metadata": {},
   "outputs": [
    {
     "data": {
      "text/plain": [
       "{1: 'John', 56: 'Maureen', 78: 'Edwin'}"
      ]
     },
     "execution_count": 19,
     "metadata": {},
     "output_type": "execute_result"
    }
   ],
   "source": [
    "students.pop(345) ## Removing items O(1)\n",
    "students"
   ]
  },
  {
   "cell_type": "markdown",
   "metadata": {},
   "source": [
    "### Hashmaps (Dictionaries)\n",
    "- Stores data as key and value (Keys replace indexes which are used in arrays, keys have to be unique)\n",
    "- Hashmaps use hash functions and hash tables to map keys to an index (memory address) of the value\n",
    "    - Hash functions should be collision proof\n",
    "    - To handles collissions: Open Addressing (Next Address), Closed Addressing (Linked Lists)\n",
    "- Time complexity for hasmap operations:\n",
    "    - O(1) for all operations in the best case\n",
    "    - O(n) if the hash function is inefficient (LinkedLists on one address\n",
    "    - Note that for most programming languages the has function has been optimise to avoid collisions hence operations are still O(1)"
   ]
  },
  {
   "cell_type": "code",
   "execution_count": null,
   "metadata": {},
   "outputs": [],
   "source": [
    "## Trying to build a hash function if our keys could only be strings of dates in 2024\n",
    "\n",
    "### Ignore the code below, watch the recording to understand what I was trying to raise about collisions\n",
    "safaricom = {'01/01/2024':234,'02/02/2024':231, '23/11/2024':456}\n",
    "hashtable = [31,31+28,31+28+31,31+28+31+30]\n",
    "if int(key[3:5]) == 1:\n",
    "    print(key[:2])\n",
    "if int(key[3:5]) == 2:\n",
    "    print(key[:2]+31)\n",
    "if int(key[3:5]) == 3:\n",
    "    print(key[:2]+31+28)"
   ]
  },
  {
   "cell_type": "markdown",
   "metadata": {},
   "source": [
    "## Day 3: Basic Sorting Algorithms"
   ]
  },
  {
   "cell_type": "markdown",
   "metadata": {},
   "source": [
    "### Selection Sort\n",
    "#### Space Inefficient Selection Sort\n",
    "- Worst-case scenario: O(n^2)\n",
    "- Best-case scenario: O(n^2) – you always have to complete the loops even if array is already sorted\n",
    "- Space complexity: 0(n) - we are creating a new array that will take in n elements (size of unsorted array)"
   ]
  },
  {
   "cell_type": "code",
   "execution_count": 4,
   "metadata": {},
   "outputs": [],
   "source": [
    "def selectionsort(unsorted):\n",
    "    sorted_ = []\n",
    "    while len(unsorted) > 1:\n",
    "        min_ = float('inf')\n",
    "        for item in unsorted:\n",
    "            if item < min_:\n",
    "                min_ = item\n",
    "\n",
    "        sorted_.append(min_)\n",
    "        unsorted.remove(min_)\n",
    "\n",
    "    return sorted_"
   ]
  },
  {
   "cell_type": "code",
   "execution_count": 11,
   "metadata": {},
   "outputs": [
    {
     "data": {
      "text/plain": [
       "[1, 23, 32, 45, 78, 78, 87, 90]"
      ]
     },
     "execution_count": 11,
     "metadata": {},
     "output_type": "execute_result"
    }
   ],
   "source": [
    "arr = [23,1,45,32,90,87,78,78]\n",
    "selectionsort(arr)"
   ]
  },
  {
   "cell_type": "markdown",
   "metadata": {},
   "source": [
    "#### Space Efficient Selection Sort\n",
    "- This is still selection sort, therefore, best and worst scenarios are still the same O(n^2)\n",
    "- Space complexity: O(1) – instead of creating a new array, we are sorting by swapping indexes"
   ]
  },
  {
   "cell_type": "code",
   "execution_count": 9,
   "metadata": {},
   "outputs": [],
   "source": [
    "def selectionsort2(unsorted):\n",
    "    for j in range(len(unsorted)): # switch the start-point by one\n",
    "        min_ = float('inf')\n",
    "        for i in range(j,len(unsorted)): #search for minimum element loop\n",
    "            if unsorted[i] < min_:\n",
    "                min_ = unsorted[i]\n",
    "                index = i\n",
    "        unsorted[index] = unsorted[j]\n",
    "        unsorted[j] = min_\n",
    "\n",
    "    return unsorted   "
   ]
  },
  {
   "cell_type": "code",
   "execution_count": 10,
   "metadata": {},
   "outputs": [
    {
     "data": {
      "text/plain": [
       "[1, 23, 32, 45, 78, 87, 90]"
      ]
     },
     "execution_count": 10,
     "metadata": {},
     "output_type": "execute_result"
    }
   ],
   "source": [
    "arr = [23,1,45,32,90,87,78]\n",
    "selectionsort2(arr)"
   ]
  },
  {
   "cell_type": "markdown",
   "metadata": {},
   "source": [
    "### Bubble Sort – O(n)\n",
    "- Best-case runtime: O(n) – when array is already sorted\n",
    "- Worst-case runtime: O(n^2) – when smallest element is at the last index\n",
    "- Space complexity: O(1) – sorting happens within the input array"
   ]
  },
  {
   "cell_type": "code",
   "execution_count": 15,
   "metadata": {},
   "outputs": [],
   "source": [
    "def bubblesort(unsorted):\n",
    "    swapped = True\n",
    "\n",
    "    while swapped == True:\n",
    "        swapped = False\n",
    "        for i in range(len(unsorted)-1):\n",
    "            if unsorted[i] > unsorted[i+1]:\n",
    "                unsorted[i], unsorted[i+1] = unsorted[i+1], unsorted[i]\n",
    "                swapped = True\n",
    "\n",
    "    return unsorted"
   ]
  },
  {
   "cell_type": "code",
   "execution_count": 16,
   "metadata": {},
   "outputs": [
    {
     "data": {
      "text/plain": [
       "[1, 23, 32, 45, 78, 87, 90]"
      ]
     },
     "execution_count": 16,
     "metadata": {},
     "output_type": "execute_result"
    }
   ],
   "source": [
    "arr = [23,1,45,32,90,87,78]\n",
    "bubblesort(arr)"
   ]
  },
  {
   "cell_type": "markdown",
   "metadata": {},
   "source": [
    "### Insertion Sort\n",
    "- Best-case runtime: O(n) – when array is already sorted\n",
    "- Worst-case runtime: O(n^2) – when array is already sorted in reverse\n",
    "- Space complexity: O(1) – sorting happens within the input array"
   ]
  },
  {
   "cell_type": "code",
   "execution_count": 6,
   "metadata": {},
   "outputs": [],
   "source": [
    "def insertionsort(unsorted):\n",
    "    for i in range(1,len(unsorted)):\n",
    "        j = i-1\n",
    "        target = unsorted[i]\n",
    "        while j >= 0:\n",
    "            if unsorted[j] > target:\n",
    "                unsorted[j+1] = unsorted[j]\n",
    "                unsorted[j] = target\n",
    "                j = j-1\n",
    "            else:\n",
    "                break\n",
    "\n",
    "    return unsorted"
   ]
  },
  {
   "cell_type": "code",
   "execution_count": 7,
   "metadata": {},
   "outputs": [
    {
     "data": {
      "text/plain": [
       "[1, 23, 32, 45, 78, 78, 87, 90]"
      ]
     },
     "execution_count": 7,
     "metadata": {},
     "output_type": "execute_result"
    }
   ],
   "source": [
    "arr = [23,1,45,32,90,87,78,78]\n",
    "insertionsort(arr)"
   ]
  },
  {
   "cell_type": "code",
   "execution_count": 13,
   "metadata": {},
   "outputs": [
    {
     "name": "stdout",
     "output_type": "stream",
     "text": [
      "[23, 1, 45, 32, 90, 87, 78, 78]\n"
     ]
    }
   ],
   "source": [
    "unsorted = [23,1,45,32,90,87,78,78]\n",
    "\n",
    "### To debug and issue a video solution\n",
    "for i in range(1,len(unsorted)):\n",
    "    for j in range(i-1,len(unsorted),-1):\n",
    "        print(j)\n",
    "        if unsorted[j] > unsorted[i]:\n",
    "            unsorted[j], unsorted[i] = unsorted[i], unsorted[j]\n",
    "            print(unsorted)\n",
    "\n",
    "print(unsorted)"
   ]
  },
  {
   "cell_type": "markdown",
   "metadata": {},
   "source": [
    "## Day 4: Recursive Sorting Algorithms"
   ]
  },
  {
   "cell_type": "markdown",
   "metadata": {},
   "source": [
    "### What is Recursion?\n",
    "These are functions that call themselves. Recursive functions make it easier to solve problems that have repetitive sub-problems. Here are some examples of recursive functions:\n",
    "1. **Example 1:** Sum of numbers upto the nth number `1 + 2 + ... + (n-1) + n`. Let's put this into practice – sum of numbers till 4 will be `4 + 3 + 2 + 1 = 10` and sum of numbers till 3 will be `3 + 2 + 1 = 6`. What you'll realise from this is that the sum of numbers till 4 is simply the sum of numbers till 3 plus the number 4 (repetitive sub-problem). The sum of numbers till 5 will simply be the sum of numbers till 4 plus the number 5. If we were to encode this to a recursive function it will be `f(n) = n + f(n-1)`. However, it is worth noting that if you implemented this in code, the function will recall itself, always subtracting 1 `f(n-1)` till `-infinity`. This not what we want, therefore, we introduce a base case where `if n = 1; return 1` which will stop the recursion when n is 1. Base cases are very important to avoid recursive functions that run till the end of time.\n",
    "2. **Example 2:** The fibonacci sequence is another good example where recursive functions can be applied. The nth term in the sequence if found by adding the two previous terms such that the terms are: `1,1,2,3,5,8,13,21,...`. If you were asked to compute the nth term of our sequence, we know the recursive subproblem can be written as `f(n) = f(n-1) + f(n-2)`. However, base cases are important, when at the first and second term, there are no two previous terms therefore in these instances we'll `return 1; if n = 1 or n = 2`.\n",
    "\n",
    "See code solutions to these examples below:"
   ]
  },
  {
   "cell_type": "code",
   "execution_count": 8,
   "metadata": {},
   "outputs": [],
   "source": [
    "## Example 1 code solution (Sum of numbers till n)\n",
    "def sum_(n):\n",
    "    if n == 1: ## The base case\n",
    "        return 1\n",
    "    return sum_(n-1) + n ## Recursive call"
   ]
  },
  {
   "cell_type": "code",
   "execution_count": 10,
   "metadata": {},
   "outputs": [
    {
     "data": {
      "text/plain": [
       "5050"
      ]
     },
     "execution_count": 10,
     "metadata": {},
     "output_type": "execute_result"
    }
   ],
   "source": [
    "sum_(100)"
   ]
  },
  {
   "cell_type": "code",
   "execution_count": 17,
   "metadata": {},
   "outputs": [],
   "source": [
    "## Example 2 code solution (Nth term of the fibonacci sequence)\n",
    "def fibonacci(n):\n",
    "    if n == 1: ## First base case\n",
    "        return 1\n",
    "    if n == 2: ## 2nd base case\n",
    "        return 1\n",
    "    return fibonacci(n-1) + fibonacci(n-2) ## Recursive call"
   ]
  },
  {
   "cell_type": "code",
   "execution_count": 18,
   "metadata": {},
   "outputs": [
    {
     "data": {
      "text/plain": [
       "55"
      ]
     },
     "execution_count": 18,
     "metadata": {},
     "output_type": "execute_result"
    }
   ],
   "source": [
    "fibonacci(10)"
   ]
  },
  {
   "cell_type": "markdown",
   "metadata": {},
   "source": [
    "### Merge Sort - O(n log n)"
   ]
  },
  {
   "cell_type": "code",
   "execution_count": 14,
   "metadata": {},
   "outputs": [],
   "source": [
    "def merge(left,right):\n",
    "    '''Takes in two sorted arrays;\n",
    "    merges them into one sorted array'''\n",
    "    \n",
    "    merged = []\n",
    "    while len(left) > 0 and len(right) > 0:\n",
    "        if left[0] < right[0]:\n",
    "            merged.append(left[0]) ## Add item to the merged array\n",
    "            left = left[1:] ## Remove item from original sub-array\n",
    "        else:\n",
    "            merged.append(right[0]) ## Add item to the merged array\n",
    "            right = right[1:] ## Remove item from original sub-array\n",
    "\n",
    "    while len(right) > 0:\n",
    "        merged.append(right[0])\n",
    "        right = right[1:]\n",
    "\n",
    "    while len(left) > 0:\n",
    "        merged.append(left[0])\n",
    "        left = left[1:]\n",
    "\n",
    "    return merged"
   ]
  },
  {
   "cell_type": "code",
   "execution_count": 15,
   "metadata": {},
   "outputs": [],
   "source": [
    "def mergesort(unsorted):\n",
    "    if len(unsorted) == 0:\n",
    "        return []\n",
    "    if len(unsorted) == 1:\n",
    "        return unsorted\n",
    "    \n",
    "    midpoint = len(unsorted)//2 ## We need to get an integer\n",
    "    \n",
    "    left = mergesort(unsorted[:midpoint])\n",
    "    right = mergesort(unsorted[midpoint:])\n",
    "    \n",
    "    #print(merge(left,right))\n",
    "    return merge(left,right)"
   ]
  },
  {
   "cell_type": "code",
   "execution_count": 16,
   "metadata": {},
   "outputs": [
    {
     "data": {
      "text/plain": [
       "[1, 23, 32, 45, 78, 78, 78, 87, 90]"
      ]
     },
     "execution_count": 16,
     "metadata": {},
     "output_type": "execute_result"
    }
   ],
   "source": [
    "unsorted = [23,1,45,32,90,87,78,78,78]\n",
    "mergesort(unsorted)"
   ]
  },
  {
   "cell_type": "markdown",
   "metadata": {},
   "source": [
    "### Quicksort\n",
    "\n",
    "### Space Inefficient way of quicksort"
   ]
  },
  {
   "cell_type": "code",
   "execution_count": 53,
   "metadata": {},
   "outputs": [],
   "source": [
    "def quicksort(unsorted):\n",
    "    if len(unsorted) <= 1:\n",
    "        return unsorted\n",
    "    \n",
    "    pivot = unsorted[-1]\n",
    "    left = [] ### Try implement quicksort where we do in position\n",
    "    right = []\n",
    "\n",
    "    for i in range(len(unsorted)-1):\n",
    "        if unsorted[i] < pivot:\n",
    "            left.append(unsorted[i])\n",
    "        else:\n",
    "            right.append(unsorted[i])\n",
    "\n",
    "    return quicksort(left) + [pivot] + quicksort(right)"
   ]
  },
  {
   "cell_type": "code",
   "execution_count": 55,
   "metadata": {},
   "outputs": [
    {
     "data": {
      "text/plain": [
       "[1, 23, 32, 45, 78, 78, 87, 90]"
      ]
     },
     "execution_count": 55,
     "metadata": {},
     "output_type": "execute_result"
    }
   ],
   "source": [
    "unsorted = [23,1,45,32,90,87,78,78]\n",
    "quicksort(unsorted)"
   ]
  },
  {
   "cell_type": "code",
   "execution_count": 10,
   "metadata": {},
   "outputs": [],
   "source": [
    "def quicksort2(unsorted):\n",
    "    if len(unsorted) <= 1:\n",
    "        return unsorted\n",
    "    \n",
    "    pivot = unsorted[-1]\n",
    "    i = 0\n",
    "    j = len(unsorted)-2\n",
    "    \n",
    "    while j >= i:\n",
    "        while unsorted[i] < pivot:\n",
    "            i += 1\n",
    "        while unsorted[j] >= pivot:\n",
    "            j -= 1\n",
    "        unsorted[i], unsorted[j] = unsorted[j], unsorted[i]\n",
    "    unsorted[-1] = unsorted[j]\n",
    "    unsorted[j] = pivot\n",
    "\n",
    "    return quicksort2(unsorted[:j]) + [pivot] + quicksort2(unsorted[j+1:])\n",
    "        "
   ]
  },
  {
   "cell_type": "code",
   "execution_count": 11,
   "metadata": {},
   "outputs": [
    {
     "data": {
      "text/plain": [
       "[23, 45, 45, 78, 87, 87, 90, 90]"
      ]
     },
     "execution_count": 11,
     "metadata": {},
     "output_type": "execute_result"
    }
   ],
   "source": [
    "unsorted = [23,1,45,32,90,87,78,78]\n",
    "quicksort2(unsorted)"
   ]
  }
 ],
 "metadata": {
  "kernelspec": {
   "display_name": "Python 3",
   "language": "python",
   "name": "python3"
  },
  "language_info": {
   "codemirror_mode": {
    "name": "ipython",
    "version": 3
   },
   "file_extension": ".py",
   "mimetype": "text/x-python",
   "name": "python",
   "nbconvert_exporter": "python",
   "pygments_lexer": "ipython3",
   "version": "3.11.4"
  }
 },
 "nbformat": 4,
 "nbformat_minor": 2
}
