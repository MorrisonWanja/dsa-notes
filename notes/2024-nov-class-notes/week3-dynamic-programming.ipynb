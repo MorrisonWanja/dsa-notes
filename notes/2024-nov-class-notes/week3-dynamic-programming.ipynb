{
 "cells": [
  {
   "cell_type": "markdown",
   "metadata": {},
   "source": [
    "# Dynamic Programming Notes"
   ]
  },
  {
   "cell_type": "markdown",
   "metadata": {},
   "source": [
    "## Dynamic Programming Foundations\n",
    "Dynamic programming is simply recursion on steroids, we add efficiency to recursive sub-problems to avoid duplicate computations."
   ]
  },
  {
   "cell_type": "code",
   "execution_count": null,
   "metadata": {},
   "outputs": [
    {
     "data": {
      "text/plain": [
       "55"
      ]
     },
     "execution_count": 1,
     "metadata": {},
     "output_type": "execute_result"
    }
   ],
   "source": [
    "## Fibonacci Sequence Recursion\n",
    "def fibonacci(n):\n",
    "    if n == 1:\n",
    "        return 1\n",
    "    if n == 2:\n",
    "         return 1\n",
    "    return fibonacci(n-1) + fibonacci(n-2)\n",
    "\n",
    "\n",
    "fibonacci(10)"
   ]
  },
  {
   "cell_type": "code",
   "execution_count": null,
   "metadata": {},
   "outputs": [
    {
     "data": {
      "text/plain": [
       "55"
      ]
     },
     "execution_count": 2,
     "metadata": {},
     "output_type": "execute_result"
    }
   ],
   "source": [
    "## Fibonacci Sequence Top-Down DP\n",
    "cache = dict() #n is the key\n",
    "def fibonacci(n):\n",
    "    ##Base cases\n",
    "    if n == 1:\n",
    "        return 1\n",
    "    if n == 2:\n",
    "         return 1\n",
    "    ## Retrieve from cache\n",
    "    if n in cache.keys():\n",
    "        return cache[n]\n",
    "\n",
    "    ## Repetitive sub-problem (Always save to cache first)\n",
    "    cache[n] = fibonacci(n-1) + fibonacci(n-2)\n",
    "    return cache[n]\n",
    "\n",
    "\n",
    "fibonacci(10)"
   ]
  },
  {
   "cell_type": "code",
   "execution_count": 6,
   "metadata": {},
   "outputs": [
    {
     "data": {
      "text/plain": [
       "55"
      ]
     },
     "execution_count": 6,
     "metadata": {},
     "output_type": "execute_result"
    }
   ],
   "source": [
    "## Fibonacci Sequence Bottom-Up DP\n",
    "def fibonacci(n):\n",
    "    ##Base cases\n",
    "    if n == 1:\n",
    "        return 1\n",
    "    if n == 2:\n",
    "         return 1\n",
    "    \n",
    "    ##Iterative Solution\n",
    "    a,b = 1,1\n",
    "    for i in range(2,n):\n",
    "        c = a + b\n",
    "        a = b\n",
    "        b = c\n",
    "    return c\n",
    "\n",
    "\n",
    "fibonacci(10)"
   ]
  },
  {
   "cell_type": "markdown",
   "metadata": {},
   "source": [
    "In summary, let's look at the Big-O notations:\n",
    "|  | Recursion | Top-Down | Bottom-Up |\n",
    "|---|---|---|---|\n",
    "| Runtime | O(2^n) | O(n) | O(n) |\n",
    "| Space | O(1) | O(n) | O(1) |"
   ]
  },
  {
   "cell_type": "markdown",
   "metadata": {},
   "source": [
    "## Zero-One Knapsack\n",
    "Maximise return based on a basket of items. Each item is either in the knapsack or not in the knapsack."
   ]
  },
  {
   "cell_type": "code",
   "execution_count": null,
   "metadata": {},
   "outputs": [],
   "source": [
    "### Top-Down Dynamic Programming\n",
    "cache = dict() ## (maxW, weights): whatever the knapsack computes\n",
    "def knapsack(maxW, weights, profits):\n",
    "    ##Base Cases\n",
    "    if len(weights) == 0:\n",
    "        return 0\n",
    "    if len(weights) == 1:\n",
    "        if weights[0] > maxW:\n",
    "            return 0\n",
    "        else:\n",
    "            return profits[0]\n",
    "\n",
    "    ## retrieve from precomputed responses\n",
    "    if (maxW,tuple(weights)) in cache.keys():\n",
    "        return cache[(maxW,tuple(weights))]\n",
    "\n",
    "    ### Repetitive Subproblem\n",
    "    if weights[-1] > maxW:\n",
    "        cache[(maxW,tuple(weights))] = knapsack(maxW, weights[:-1],profits[:-1])\n",
    "        return cache[(maxW,tuple(weights))]\n",
    "    else:\n",
    "        a = knapsack(maxW, weights[:-1],profits[:-1])  #ignore the last item\n",
    "        b = profits[-1] + knapsack(maxW-weights[-1],weights[:-1],profits[:-1]) #include the last item\n",
    "        cache[(maxW,tuple(weights))] = max(a,b)\n",
    "        return cache[(maxW,tuple(weights))]\n",
    "    \n",
    "\n",
    "knapsack(18,[1,3,5,7],[2,4,7,10])"
   ]
  },
  {
   "cell_type": "markdown",
   "metadata": {},
   "source": [
    "In summary, let's look at the Big-O notations (Where `m` is the number of items and `n` is the size of the knapsack):\n",
    "|  | Recursion | Top-Down | Bottom-Up |\n",
    "|---|---|---|---|\n",
    "| Runtime | O(2^n) | O(n*m) | O(n*m) |\n",
    "| Space | O(1) | O(n*m) | O(n) |\n",
    "\n",
    "Here are some of the real-world applications of the Zero-One Knapsack:\n",
    "1. Data Compression: Choosing a subset of files to compress within a storage limit while preserving important data\n",
    "2. Task Scheduling: Choosing a set of tasks to fit into a schedule while maximising the expected output\n",
    "3. Investment/Resource Allocation: Choosing which assets to allocate investments based on risks and returns"
   ]
  },
  {
   "cell_type": "markdown",
   "metadata": {},
   "source": [
    "## Unbounded Knapsack\n",
    "Maximise return based on a basket of items. Each item can be selected multiple times into the knapsack."
   ]
  }
 ],
 "metadata": {
  "kernelspec": {
   "display_name": "Python 3",
   "language": "python",
   "name": "python3"
  },
  "language_info": {
   "codemirror_mode": {
    "name": "ipython",
    "version": 3
   },
   "file_extension": ".py",
   "mimetype": "text/x-python",
   "name": "python",
   "nbconvert_exporter": "python",
   "pygments_lexer": "ipython3",
   "version": "3.11.4"
  }
 },
 "nbformat": 4,
 "nbformat_minor": 2
}
