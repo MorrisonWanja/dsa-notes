{
 "cells": [
  {
   "cell_type": "code",
   "execution_count": 8,
   "metadata": {},
   "outputs": [],
   "source": [
    "cache = dict() ## (maxW, weights): whatever the knapsack computes\n",
    "def knapsack(maxW, weights, profits):\n",
    "    ##Base Cases\n",
    "    if len(weights) == 0:\n",
    "        return 0\n",
    "    if len(weights) == 1:\n",
    "        if weights[0] > maxW:\n",
    "            return 0\n",
    "        else:\n",
    "            return profits[0]\n",
    "\n",
    "    ## retrieve from precomputed responses\n",
    "    if (maxW,tuple(weights)) in cache.keys():\n",
    "        return cache[(maxW,tuple(weights))]\n",
    "\n",
    "    ### Repetitive Subproblem\n",
    "    if weights[-1] > maxW:\n",
    "        cache[(maxW,tuple(weights))] = knapsack(maxW, weights[:-1],profits[:-1])\n",
    "        return cache[(maxW,tuple(weights))]\n",
    "    else:\n",
    "        a = knapsack(maxW, weights[:-1],profits[:-1])  #ignore the last item\n",
    "        b = profits[-1] + knapsack(maxW-weights[-1],weights[:-1],profits[:-1]) #include the last item\n",
    "        cache[(maxW,tuple(weights))] = max(a,b)\n",
    "        return cache[(maxW,tuple(weights))]"
   ]
  },
  {
   "cell_type": "code",
   "execution_count": 14,
   "metadata": {},
   "outputs": [
    {
     "data": {
      "text/plain": [
       "23"
      ]
     },
     "execution_count": 14,
     "metadata": {},
     "output_type": "execute_result"
    }
   ],
   "source": [
    "knapsack(18,[1,3,5,7],[2,4,7,10])"
   ]
  }
 ],
 "metadata": {
  "kernelspec": {
   "display_name": "Python 3",
   "language": "python",
   "name": "python3"
  },
  "language_info": {
   "codemirror_mode": {
    "name": "ipython",
    "version": 3
   },
   "file_extension": ".py",
   "mimetype": "text/x-python",
   "name": "python",
   "nbconvert_exporter": "python",
   "pygments_lexer": "ipython3",
   "version": "3.11.4"
  }
 },
 "nbformat": 4,
 "nbformat_minor": 2
}
