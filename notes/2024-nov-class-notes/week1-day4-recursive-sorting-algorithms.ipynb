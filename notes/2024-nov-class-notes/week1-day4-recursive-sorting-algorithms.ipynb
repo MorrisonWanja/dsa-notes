{
 "cells": [
  {
   "cell_type": "markdown",
   "metadata": {},
   "source": [
    "# Week 1 Day 4: Recursive Sorting Algorithms"
   ]
  },
  {
   "cell_type": "markdown",
   "metadata": {},
   "source": [
    "## Recursion\n",
    "These are functions that call themselves and are applied when there is a repetitive sub-process in your code.\n",
    "- Identify the repetitive subprocess and encode the recursive function\n",
    "- Determine the base cases to prevent recursion from going to +/- infinity (or bring up error when it does not apply)\n",
    "\n",
    "Recursive functions can be written iteratively using loops, however, writing recursive functions tends to be simple and elegant once a repeating sub-process is found. In week 3, we'll learn how to optimise these recursive functions."
   ]
  },
  {
   "cell_type": "code",
   "execution_count": 4,
   "metadata": {},
   "outputs": [
    {
     "data": {
      "text/plain": [
       "5050"
      ]
     },
     "execution_count": 4,
     "metadata": {},
     "output_type": "execute_result"
    }
   ],
   "source": [
    "## sum of numbers till n\n",
    "n = 100\n",
    "sum_ = 0\n",
    "for i in range(1,n+1):\n",
    "    sum_ += i\n",
    "\n",
    "sum_\n"
   ]
  },
  {
   "cell_type": "code",
   "execution_count": 6,
   "metadata": {},
   "outputs": [
    {
     "data": {
      "text/plain": [
       "5050"
      ]
     },
     "execution_count": 6,
     "metadata": {},
     "output_type": "execute_result"
    }
   ],
   "source": [
    "def sum_(n):\n",
    "    if n == 0:\n",
    "        return 0\n",
    "    return n + sum_(n-1)\n",
    "\n",
    "sum_(100)"
   ]
  },
  {
   "cell_type": "code",
   "execution_count": 8,
   "metadata": {},
   "outputs": [
    {
     "data": {
      "text/plain": [
       "120"
      ]
     },
     "execution_count": 8,
     "metadata": {},
     "output_type": "execute_result"
    }
   ],
   "source": [
    "## factorial recursion\n",
    "def factorial(n):\n",
    "    if n == 1 or n == 0:\n",
    "        return 1\n",
    "    return n * factorial(n-1)\n",
    "\n",
    "factorial(5)"
   ]
  },
  {
   "cell_type": "code",
   "execution_count": 9,
   "metadata": {},
   "outputs": [
    {
     "data": {
      "text/plain": [
       "55"
      ]
     },
     "execution_count": 9,
     "metadata": {},
     "output_type": "execute_result"
    }
   ],
   "source": [
    "## fibonacci sequence 1,1,2,3,5\n",
    "def fib(n):\n",
    "    if n == 1:\n",
    "        return 1\n",
    "    if n == 2:\n",
    "        return 1\n",
    "    return fib(n-1) + fib(n-2)\n",
    "\n",
    "\n",
    "fib(10)"
   ]
  },
  {
   "cell_type": "markdown",
   "metadata": {},
   "source": [
    "## Merge Sort"
   ]
  },
  {
   "cell_type": "code",
   "execution_count": 2,
   "metadata": {},
   "outputs": [
    {
     "data": {
      "text/plain": [
       "[12, 24, 34, 56, 56, 65, 78, 99]"
      ]
     },
     "execution_count": 2,
     "metadata": {},
     "output_type": "execute_result"
    }
   ],
   "source": [
    "def merge(a,b):\n",
    "    arr = []\n",
    "    while len(a) > 0 and len(b) > 0:\n",
    "        if a[0] < b[0]:\n",
    "            arr.append(a[0])\n",
    "            a = a[1:]\n",
    "        else:\n",
    "            arr.append(b[0])\n",
    "            b = b[1:]\n",
    "\n",
    "    while len(a) > 0:\n",
    "        arr.append(a[0])\n",
    "        a = a[1:]\n",
    "\n",
    "    while len(b) > 0:\n",
    "        arr.append(b[0])\n",
    "        b = b[1:]\n",
    "\n",
    "    return arr\n",
    "\n",
    "\n",
    "a = [12,24,56,78]\n",
    "b = [34,56,65,99]\n",
    "merge(a,b)"
   ]
  },
  {
   "cell_type": "code",
   "execution_count": 3,
   "metadata": {},
   "outputs": [
    {
     "data": {
      "text/plain": [
       "[1, 5, 12, 23, 23, 32, 76]"
      ]
     },
     "execution_count": 3,
     "metadata": {},
     "output_type": "execute_result"
    }
   ],
   "source": [
    "arr = [23,12, 32, 76, 23, 1, 5]\n",
    "\n",
    "def mergesort(arr):\n",
    "    if len(arr) <= 1:\n",
    "        return arr\n",
    "    \n",
    "    mid = len(arr)//2\n",
    "    left_arr = mergesort(arr[:mid])\n",
    "    right_arr = mergesort(arr[mid:])\n",
    "\n",
    "    return merge(left_arr,right_arr)\n",
    "\n",
    "mergesort(arr)"
   ]
  },
  {
   "cell_type": "markdown",
   "metadata": {},
   "source": [
    "## Quicksort"
   ]
  },
  {
   "cell_type": "code",
   "execution_count": 11,
   "metadata": {},
   "outputs": [],
   "source": [
    "## How to merge two already sorted array\n",
    "def merge(a,b):\n",
    "    arr = []\n",
    "    while len(a) > 0 and len(b) > 0:\n",
    "        if a[0] < b[0]:\n",
    "            arr.append(a[0])\n",
    "            a = a[1:]\n",
    "        else:\n",
    "            arr.append(b[0])\n",
    "            b = b[1:]\n",
    "\n",
    "    while len(a) > 0:\n",
    "        arr.append(a[0])\n",
    "        a = a[1:]\n",
    "\n",
    "    while len(b) > 0:\n",
    "        arr.append(b[0])\n",
    "        b = b[1:]\n",
    "\n",
    "    return arr"
   ]
  },
  {
   "cell_type": "code",
   "execution_count": 12,
   "metadata": {},
   "outputs": [],
   "source": [
    "def mergesort(arr):\n",
    "    if len(arr) <= 1:\n",
    "        return arr\n",
    "\n",
    "    mid = len(arr)//2\n",
    "\n",
    "    left = mergesort(arr[:mid])\n",
    "    right = mergesort(arr[mid:])\n",
    "\n",
    "    return merge(left,right)"
   ]
  },
  {
   "cell_type": "code",
   "execution_count": 13,
   "metadata": {},
   "outputs": [
    {
     "data": {
      "text/plain": [
       "[1, 12, 23, 32, 43, 65, 78, 87, 90]"
      ]
     },
     "execution_count": 13,
     "metadata": {},
     "output_type": "execute_result"
    }
   ],
   "source": [
    "mergesort([23,12,1,43,87,90,78,65,32])"
   ]
  },
  {
   "cell_type": "code",
   "execution_count": 16,
   "metadata": {},
   "outputs": [],
   "source": [
    "def quicksort(arr):\n",
    "    \n",
    "    if len(arr) <= 1:\n",
    "        return arr\n",
    "    \n",
    "    pivot = arr[-1]\n",
    "    left = []\n",
    "    right = []\n",
    "\n",
    "    for i in range(len(arr)-1):\n",
    "        if arr[i] < pivot:\n",
    "            left.append(arr[i])\n",
    "        else:\n",
    "            right.append(arr[i])\n",
    "\n",
    "    return quicksort(left) + [pivot] + quicksort(right)"
   ]
  },
  {
   "cell_type": "code",
   "execution_count": 17,
   "metadata": {},
   "outputs": [
    {
     "data": {
      "text/plain": [
       "[1, 12, 23, 32, 43, 65, 78, 87, 90]"
      ]
     },
     "execution_count": 17,
     "metadata": {},
     "output_type": "execute_result"
    }
   ],
   "source": [
    "quicksort([23,12,1,43,87,90,78,65,32])"
   ]
  }
 ],
 "metadata": {
  "kernelspec": {
   "display_name": "Python 3",
   "language": "python",
   "name": "python3"
  },
  "language_info": {
   "codemirror_mode": {
    "name": "ipython",
    "version": 3
   },
   "file_extension": ".py",
   "mimetype": "text/x-python",
   "name": "python",
   "nbconvert_exporter": "python",
   "pygments_lexer": "ipython3",
   "version": "3.11.4"
  }
 },
 "nbformat": 4,
 "nbformat_minor": 2
}
