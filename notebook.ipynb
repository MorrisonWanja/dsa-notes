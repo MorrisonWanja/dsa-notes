{
 "cells": [
  {
   "cell_type": "markdown",
   "metadata": {},
   "source": [
    "# Data Structures and Algorithms"
   ]
  },
  {
   "cell_type": "code",
   "execution_count": 1,
   "metadata": {},
   "outputs": [],
   "source": [
    "import numpy as np"
   ]
  },
  {
   "cell_type": "markdown",
   "metadata": {},
   "source": [
    "## Understanding Numpy\n",
    "We use numpy for vectorised operations of arrays which are faster than using for-loops and lists"
   ]
  },
  {
   "cell_type": "code",
   "execution_count": 63,
   "metadata": {},
   "outputs": [
    {
     "name": "stdout",
     "output_type": "stream",
     "text": [
      "[3, 5, 7, 9, 11]\n"
     ]
    }
   ],
   "source": [
    "## How to add two vectors using for-loops\n",
    "a = (1,2,3,4,5)\n",
    "b = (2,3,4,5,6)\n",
    "c = list() #Target is a + b\n",
    "\n",
    "for i in range(len(a)):\n",
    "    c.append(a[i] + b[i])\n",
    "\n",
    "print(c)"
   ]
  },
  {
   "cell_type": "code",
   "execution_count": 65,
   "metadata": {},
   "outputs": [
    {
     "name": "stdout",
     "output_type": "stream",
     "text": [
      "[ 3  5  7  9 11]\n"
     ]
    }
   ],
   "source": [
    "## How to add two vectors with numpy\n",
    "a = np.array(a) #I am converting the previous lists into an array\n",
    "b = np.array(b)\n",
    "\n",
    "## With numpy adding vectors is like adding two numbers at once, no for loops\n",
    "print(a + b)"
   ]
  },
  {
   "cell_type": "markdown",
   "metadata": {},
   "source": [
    "We'll use numpy for all operations in this code where we need to work fast with arrays"
   ]
  },
  {
   "cell_type": "markdown",
   "metadata": {},
   "source": [
    "# Monte Carlo Simulation"
   ]
  },
  {
   "cell_type": "code",
   "execution_count": 68,
   "metadata": {},
   "outputs": [
    {
     "name": "stdout",
     "output_type": "stream",
     "text": [
      "3.1418\n"
     ]
    }
   ],
   "source": [
    "## Can we estimate pi using Monte Carlo\n",
    "n = 100000 #Reduce/increase this number to understand the effect on pi's accuracy\n",
    "x  = np.random.rand(n)\n",
    "y = np.random.rand(n)\n",
    "\n",
    "dist = np.sqrt(x**2 + y**2)\n",
    "pi = 4 * len(np.where(dist<= 1)[0])/n\n",
    "print(pi) #note that the value changes cause this is randomised\n"
   ]
  },
  {
   "cell_type": "markdown",
   "metadata": {},
   "source": [
    "# Dynamic Programming\n",
    "Solving large problems by simply finding a solutions to the smallest subset problems that comprises the large problem"
   ]
  },
  {
   "cell_type": "code",
   "execution_count": 73,
   "metadata": {},
   "outputs": [],
   "source": [
    "## Solve fibonacci using a simple recursive function (see how simple the subset makes the entire problem)\n",
    "def fibonacci(n):\n",
    "    if n == 0:\n",
    "        return 0\n",
    "    if n == 1:\n",
    "        return 1\n",
    "    return fibonacci(n-1) + fibonacci(n-2)"
   ]
  },
  {
   "cell_type": "code",
   "execution_count": 78,
   "metadata": {},
   "outputs": [
    {
     "data": {
      "text/plain": [
       "102334155"
      ]
     },
     "execution_count": 78,
     "metadata": {},
     "output_type": "execute_result"
    }
   ],
   "source": [
    "fibonacci(40) ## look at the time needed for execution when the number gets above 40"
   ]
  },
  {
   "cell_type": "code",
   "execution_count": 79,
   "metadata": {},
   "outputs": [],
   "source": [
    "## We solve the recursive function speed problem by adding a cache (Do you understand why?)\n",
    "def fibo(n, cache):\n",
    "    if n == 0:\n",
    "        return 0\n",
    "    if n == 1:\n",
    "        return 1\n",
    "    if n in cache.keys():\n",
    "        return cache[n]\n",
    "    cache[n] = fibo(n-1,cache) + fibo(n-2,cache)\n",
    "    return cache[n]"
   ]
  },
  {
   "cell_type": "code",
   "execution_count": 81,
   "metadata": {},
   "outputs": [
    {
     "data": {
      "text/plain": [
       "43466557686937456435688527675040625802564660517371780402481729089536555417949051890403879840079255169295922593080322634775209689623239873322471161642996440906533187938298969649928516003704476137795166849228875"
      ]
     },
     "execution_count": 81,
     "metadata": {},
     "output_type": "execute_result"
    }
   ],
   "source": [
    "cache = dict()\n",
    "fibo(1000,cache) ## Now we can do fibonacci 1000 in less than a second"
   ]
  },
  {
   "cell_type": "code",
   "execution_count": 82,
   "metadata": {},
   "outputs": [
    {
     "ename": "RecursionError",
     "evalue": "maximum recursion depth exceeded while calling a Python object",
     "output_type": "error",
     "traceback": [
      "\u001b[0;31m---------------------------------------------------------------------------\u001b[0m",
      "\u001b[0;31mRecursionError\u001b[0m                            Traceback (most recent call last)",
      "Cell \u001b[0;32mIn[82], line 2\u001b[0m\n\u001b[1;32m      1\u001b[0m cache \u001b[39m=\u001b[39m \u001b[39mdict\u001b[39m()\n\u001b[0;32m----> 2\u001b[0m fibo(\u001b[39m10000\u001b[39;49m,cache) \u001b[39m## But why can't we solve for 10000 yet the complexity increase is very small when using a cache\u001b[39;00m\n",
      "Cell \u001b[0;32mIn[79], line 9\u001b[0m, in \u001b[0;36mfibo\u001b[0;34m(n, cache)\u001b[0m\n\u001b[1;32m      7\u001b[0m \u001b[39mif\u001b[39;00m n \u001b[39min\u001b[39;00m cache\u001b[39m.\u001b[39mkeys():\n\u001b[1;32m      8\u001b[0m     \u001b[39mreturn\u001b[39;00m cache[n]\n\u001b[0;32m----> 9\u001b[0m cache[n] \u001b[39m=\u001b[39m fibo(n\u001b[39m-\u001b[39;49m\u001b[39m1\u001b[39;49m,cache) \u001b[39m+\u001b[39m fibo(n\u001b[39m-\u001b[39m\u001b[39m2\u001b[39m,cache)\n\u001b[1;32m     10\u001b[0m \u001b[39mreturn\u001b[39;00m cache[n]\n",
      "Cell \u001b[0;32mIn[79], line 9\u001b[0m, in \u001b[0;36mfibo\u001b[0;34m(n, cache)\u001b[0m\n\u001b[1;32m      7\u001b[0m \u001b[39mif\u001b[39;00m n \u001b[39min\u001b[39;00m cache\u001b[39m.\u001b[39mkeys():\n\u001b[1;32m      8\u001b[0m     \u001b[39mreturn\u001b[39;00m cache[n]\n\u001b[0;32m----> 9\u001b[0m cache[n] \u001b[39m=\u001b[39m fibo(n\u001b[39m-\u001b[39;49m\u001b[39m1\u001b[39;49m,cache) \u001b[39m+\u001b[39m fibo(n\u001b[39m-\u001b[39m\u001b[39m2\u001b[39m,cache)\n\u001b[1;32m     10\u001b[0m \u001b[39mreturn\u001b[39;00m cache[n]\n",
      "    \u001b[0;31m[... skipping similar frames: fibo at line 9 (2970 times)]\u001b[0m\n",
      "Cell \u001b[0;32mIn[79], line 9\u001b[0m, in \u001b[0;36mfibo\u001b[0;34m(n, cache)\u001b[0m\n\u001b[1;32m      7\u001b[0m \u001b[39mif\u001b[39;00m n \u001b[39min\u001b[39;00m cache\u001b[39m.\u001b[39mkeys():\n\u001b[1;32m      8\u001b[0m     \u001b[39mreturn\u001b[39;00m cache[n]\n\u001b[0;32m----> 9\u001b[0m cache[n] \u001b[39m=\u001b[39m fibo(n\u001b[39m-\u001b[39;49m\u001b[39m1\u001b[39;49m,cache) \u001b[39m+\u001b[39m fibo(n\u001b[39m-\u001b[39m\u001b[39m2\u001b[39m,cache)\n\u001b[1;32m     10\u001b[0m \u001b[39mreturn\u001b[39;00m cache[n]\n",
      "Cell \u001b[0;32mIn[79], line 7\u001b[0m, in \u001b[0;36mfibo\u001b[0;34m(n, cache)\u001b[0m\n\u001b[1;32m      5\u001b[0m \u001b[39mif\u001b[39;00m n \u001b[39m==\u001b[39m \u001b[39m1\u001b[39m:\n\u001b[1;32m      6\u001b[0m     \u001b[39mreturn\u001b[39;00m \u001b[39m1\u001b[39m\n\u001b[0;32m----> 7\u001b[0m \u001b[39mif\u001b[39;00m n \u001b[39min\u001b[39;00m cache\u001b[39m.\u001b[39mkeys():\n\u001b[1;32m      8\u001b[0m     \u001b[39mreturn\u001b[39;00m cache[n]\n\u001b[1;32m      9\u001b[0m cache[n] \u001b[39m=\u001b[39m fibo(n\u001b[39m-\u001b[39m\u001b[39m1\u001b[39m,cache) \u001b[39m+\u001b[39m fibo(n\u001b[39m-\u001b[39m\u001b[39m2\u001b[39m,cache)\n",
      "\u001b[0;31mRecursionError\u001b[0m: maximum recursion depth exceeded while calling a Python object"
     ]
    }
   ],
   "source": [
    "cache = dict()\n",
    "fibo(10000,cache) ## But why can't we solve for 10000 yet the complexity increase is very small when using a cache"
   ]
  },
  {
   "cell_type": "code",
   "execution_count": 83,
   "metadata": {},
   "outputs": [],
   "source": [
    "## We solve the memoization problem by using a bottom-up approach instead, only two terms are saved in memory at any given time\n",
    "def fib(n):\n",
    "    a = 0\n",
    "    b = 1\n",
    "    if n == 0:\n",
    "        return a\n",
    "    if n == 1:\n",
    "        return b\n",
    "    for i in range(1,n):\n",
    "        c = a + b\n",
    "        a = b\n",
    "        b = c\n",
    "    return b"
   ]
  },
  {
   "cell_type": "code",
   "execution_count": 84,
   "metadata": {},
   "outputs": [
    {
     "data": {
      "text/plain": [
       "33644764876431783266621612005107543310302148460680063906564769974680081442166662368155595513633734025582065332680836159373734790483865268263040892463056431887354544369559827491606602099884183933864652731300088830269235673613135117579297437854413752130520504347701602264758318906527890855154366159582987279682987510631200575428783453215515103870818298969791613127856265033195487140214287532698187962046936097879900350962302291026368131493195275630227837628441540360584402572114334961180023091208287046088923962328835461505776583271252546093591128203925285393434620904245248929403901706233888991085841065183173360437470737908552631764325733993712871937587746897479926305837065742830161637408969178426378624212835258112820516370298089332099905707920064367426202389783111470054074998459250360633560933883831923386783056136435351892133279732908133732642652633989763922723407882928177953580570993691049175470808931841056146322338217465637321248226383092103297701648054726243842374862411453093812206564914032751086643394517512161526545361333111314042436854805106765843493523836959653428071768775328348234345557366719731392746273629108210679280784718035329131176778924659089938635459327894523777674406192240337638674004021330343297496902028328145933418826817683893072003634795623117103101291953169794607632737589253530772552375943788434504067715555779056450443016640119462580972216729758615026968443146952034614932291105970676243268515992834709891284706740862008587135016260312071903172086094081298321581077282076353186624611278245537208532365305775956430072517744315051539600905168603220349163222640885248852433158051534849622434848299380905070483482449327453732624567755879089187190803662058009594743150052402532709746995318770724376825907419939632265984147498193609285223945039707165443156421328157688908058783183404917434556270520223564846495196112460268313970975069382648706613264507665074611512677522748621598642530711298441182622661057163515069260029861704945425047491378115154139941550671256271197133252763631939606902895650288268608362241082050562430701794976171121233066073310059947366875"
      ]
     },
     "execution_count": 84,
     "metadata": {},
     "output_type": "execute_result"
    }
   ],
   "source": [
    "fib(10000) #Now we can do fib(10000) without the maximum depth problem with significant speed"
   ]
  }
 ],
 "metadata": {
  "kernelspec": {
   "display_name": "Python 3",
   "language": "python",
   "name": "python3"
  },
  "language_info": {
   "codemirror_mode": {
    "name": "ipython",
    "version": 3
   },
   "file_extension": ".py",
   "mimetype": "text/x-python",
   "name": "python",
   "nbconvert_exporter": "python",
   "pygments_lexer": "ipython3",
   "version": "3.11.4"
  },
  "orig_nbformat": 4
 },
 "nbformat": 4,
 "nbformat_minor": 2
}
